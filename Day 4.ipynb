{
 "cells": [
  {
   "cell_type": "markdown",
   "metadata": {},
   "source": [
    "## Python Day Four Challenge Elementary"
   ]
  },
  {
   "cell_type": "markdown",
   "metadata": {},
   "source": [
    "Write a program that reads an integer from the user. Then your program should display a message indicating whether the integer is even or odd."
   ]
  },
  {
   "cell_type": "code",
   "execution_count": 39,
   "metadata": {},
   "outputs": [
    {
     "name": "stdout",
     "output_type": "stream",
     "text": [
      "Enter an integer here31\n",
      "31  is an odd number\n"
     ]
    }
   ],
   "source": [
    "#Even or Odd!\n",
    "integer=int(input(\"Enter an integer here\"))\n",
    "if integer%2==0:\n",
    "    print (\"{}  is an even number\".format(integer))\n",
    "else:\n",
    "    print (\"{}  is an odd number\".format(integer))"
   ]
  },
  {
   "cell_type": "markdown",
   "metadata": {},
   "source": [
    "## Python Day Four Challenge Pre Intemediate"
   ]
  },
  {
   "cell_type": "markdown",
   "metadata": {},
   "source": [
    "In this exercise you will create a program that reads a letter of the alphabet from the user. If the user enters a,e,i,o,u then your program should display a message indicating that hte entered letter is a vowel. If the user enters **y** then the program should display a message indicating that sometimes y is a vowel, and sometimes a consonant, otherwise your program should display a message indicating that the letter is a consonant."
   ]
  },
  {
   "cell_type": "code",
   "execution_count": 59,
   "metadata": {},
   "outputs": [
    {
     "name": "stdout",
     "output_type": "stream",
     "text": [
      "Enter just one letter of the alphabeth: U\n",
      "Letter is a vowel\n"
     ]
    }
   ],
   "source": [
    "letter=input(\"Enter just one letter of the alphabeth: \")\n",
    "\n",
    "while len(letter)!=1:\n",
    "    letter=input(\"Please enter just one letter of the alphabeth: \")\n",
    "    \n",
    "letter=letter.lower()\n",
    "\n",
    "if letter in ['a','e','i','o','u']:\n",
    "    print ('Letter is a vowel')\n",
    "    \n",
    "elif letter=='y':\n",
    "    print (letter,\" is sometimes a vowel and sometimes a consonant\")\n",
    "    \n",
    "else:\n",
    "    print (letter, ' is a consonant')"
   ]
  },
  {
   "cell_type": "code",
   "execution_count": null,
   "metadata": {},
   "outputs": [],
   "source": []
  }
 ],
 "metadata": {
  "kernelspec": {
   "display_name": "Python 3",
   "language": "python",
   "name": "python3"
  },
  "language_info": {
   "codemirror_mode": {
    "name": "ipython",
    "version": 3
   },
   "file_extension": ".py",
   "mimetype": "text/x-python",
   "name": "python",
   "nbconvert_exporter": "python",
   "pygments_lexer": "ipython3",
   "version": "3.7.4"
  }
 },
 "nbformat": 4,
 "nbformat_minor": 2
}
