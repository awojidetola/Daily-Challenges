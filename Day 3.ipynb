{
 "cells": [
  {
   "cell_type": "markdown",
   "metadata": {},
   "source": [
    "## Python Challenge Day 3 Elementary"
   ]
  },
  {
   "cell_type": "markdown",
   "metadata": {},
   "source": [
    "When the wind blows in cold weather, the air feels even colder than it acutally is because the movement of the air increases the rate of cooling for warm objeects, like people. This effect is known as the wind chill.\n",
    "\n",
    "In 2001, Canda, the UK and USA adopted the following formular for computing the wind chill index. Within the formular T is the air temperature in Degress and V is the wind speed in kilometers per hour.\n",
    "\n",
    "*Write a program that begins by reading the air temperature and wind speed from the user. Once these values have been read your program should display the wind chill index rounded to the closest interger. Given that the wind chill index is only valid for temperatures less than or equal to 10 degrees Celsius and wind speeds exceeding 4.8 kilometers per hour.*\n",
    "\n",
    "**WCI=13.12+0.6215t-11.37V^0.16+0.3965TV^0.16**"
   ]
  },
  {
   "cell_type": "code",
   "execution_count": 69,
   "metadata": {},
   "outputs": [
    {
     "name": "stdout",
     "output_type": "stream",
     "text": [
      "Enter the value of the temperature in Celsius: 4\n",
      "Enter the value of the wind speed in Kilomters per hour: 4\n",
      "The Wind Chill Index is 3\n"
     ]
    }
   ],
   "source": [
    "#Wind Chill Index\n",
    "Temp=eval(input(\"Enter the value of the temperature in Celsius: \"))\n",
    "while Temp>10:\n",
    "    Temp=eval(input(\"Try a temperature less than 10 degree celsius: \"))\n",
    "    \n",
    "Speed =eval(input(\"Enter the value of the wind speed in Kilomters per hour: \"))\n",
    "while Speed>4.8:\n",
    "    Speed=eval(input(\"Try a speed less than 4.8 kilometers per hour: \"))\n",
    "    \n",
    "WCI=13.12+0.6125*Temp-11.37*(Speed**0.16)+0.3965*Temp*(Speed**0.16)\n",
    "print (\"The Wind Chill Index is {}\".format(round(WCI)))"
   ]
  },
  {
   "cell_type": "markdown",
   "metadata": {},
   "source": [
    "## Python Day 3 Challenge (Pre Intermediate)"
   ]
  },
  {
   "cell_type": "markdown",
   "metadata": {},
   "source": [
    "*Create a program that reads three integers (3) from the user and displays them in sorted order (from smallest to largest).*\n",
    "\n",
    "Use the min and max functions to find the smallest and largest values. The middle value can be found by computing hte sum of all three values and then subtracting the minimum and the maximum values"
   ]
  },
  {
   "cell_type": "code",
   "execution_count": 24,
   "metadata": {},
   "outputs": [
    {
     "name": "stdout",
     "output_type": "stream",
     "text": [
      "Enter first number: 3\n",
      "Enter second number: 8\n",
      "Enter third number: 7\n",
      "The numbers in sorted form is:  [3, 7, 8]\n",
      "The minimum is : 3\n",
      "The maximum is:  8\n",
      "The middle number is 7\n"
     ]
    }
   ],
   "source": [
    "user=int(input('Enter first number: '))\n",
    "user2=int(input(\"Enter second number: \"))\n",
    "user3=int(input(\"Enter third number: \"))\n",
    "tuple1=(user,user2,user3)\n",
    "sorted_numbers=sorted(tuple1)\n",
    "print (\"The numbers in sorted form is: \", sorted_numbers)\n",
    "print ('The minimum is :',min(sorted_numbers))\n",
    "print (\"The maximum is: \",max(sorted_numbers))\n",
    "print (\"The middle number is {}\".format(sum(sorted_numbers)-min(sorted_numbers)-max(sorted_numbers)))"
   ]
  },
  {
   "cell_type": "code",
   "execution_count": null,
   "metadata": {},
   "outputs": [],
   "source": []
  }
 ],
 "metadata": {
  "kernelspec": {
   "display_name": "Python 3",
   "language": "python",
   "name": "python3"
  },
  "language_info": {
   "codemirror_mode": {
    "name": "ipython",
    "version": 3
   },
   "file_extension": ".py",
   "mimetype": "text/x-python",
   "name": "python",
   "nbconvert_exporter": "python",
   "pygments_lexer": "ipython3",
   "version": "3.7.4"
  }
 },
 "nbformat": 4,
 "nbformat_minor": 2
}
