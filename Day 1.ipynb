{
 "cells": [
  {
   "cell_type": "markdown",
   "metadata": {},
   "source": [
    "## Python Day 1 Challenge: Pre Intermediate"
   ]
  },
  {
   "cell_type": "code",
   "execution_count": 1,
   "metadata": {},
   "outputs": [
    {
     "name": "stdout",
     "output_type": "stream",
     "text": [
      "Enter the length of a side: 4\n",
      "Enter the number of sides of the polygon: 4\n",
      "16.000000000000004\n"
     ]
    }
   ],
   "source": [
    "#The area of a regular polygon is given by (n*s**2)/(4*tan(pi/n)) where s is the length of a side, n is the number of sides.\n",
    "#Get the input of s and n from the user\n",
    "import math\n",
    "s=eval(input(\"Enter the length of a side: \"))\n",
    "n=eval(input(\"Enter the number of sides of the polygon: \"))\n",
    "area=(n*s**2)/(4*math.tan(math.pi/n))\n",
    "print (area)"
   ]
  },
  {
   "cell_type": "markdown",
   "metadata": {},
   "source": [
    "## Python Day 1 Challenge: Elementary"
   ]
  },
  {
   "cell_type": "code",
   "execution_count": 2,
   "metadata": {},
   "outputs": [
    {
     "name": "stdout",
     "output_type": "stream",
     "text": [
      "Enter a positive integer: 7\n",
      "The sum of integers from 1 to 7 is 28.0\n"
     ]
    }
   ],
   "source": [
    "#Difficulty: Elementary\n",
    "#Write a program that reads a positive integer, n, fromt he user and then displays the sum of all integers from 1 to n. \n",
    "#The usm of which can be computed witht he formular:\n",
    "#(n(n+1)/2)\n",
    "\n",
    "n=int(input('Enter a positive integer: '))\n",
    "result=(n*(n+1)/2)\n",
    "print ('The sum of integers from 1 to',n, 'is',result)"
   ]
  }
 ],
 "metadata": {
  "kernelspec": {
   "display_name": "Python 3",
   "language": "python",
   "name": "python3"
  },
  "language_info": {
   "codemirror_mode": {
    "name": "ipython",
    "version": 3
   },
   "file_extension": ".py",
   "mimetype": "text/x-python",
   "name": "python",
   "nbconvert_exporter": "python",
   "pygments_lexer": "ipython3",
   "version": "3.7.4"
  }
 },
 "nbformat": 4,
 "nbformat_minor": 2
}
