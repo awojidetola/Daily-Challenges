{
 "cells": [
  {
   "cell_type": "markdown",
   "metadata": {},
   "source": [
    "## Python Challenge Day 2 Elmentary"
   ]
  },
  {
   "cell_type": "code",
   "execution_count": 1,
   "metadata": {},
   "outputs": [
    {
     "name": "stdout",
     "output_type": "stream",
     "text": [
      "Enter the value of radius7\n",
      "The Area of the circle is:  153.93804002589985\n",
      "The Volume of the circle is:  1436.7550402417319\n"
     ]
    }
   ],
   "source": [
    "import math as m\n",
    "r=eval(input('Enter the value of radius'))\n",
    "Area=m.pi*r**2\n",
    "Volume=4/3*m.pi*r**3\n",
    "print (\"The Area of the circle is: \",Area)\n",
    "print (\"The Volume of the circle is: \",Volume)"
   ]
  }
 ],
 "metadata": {
  "kernelspec": {
   "display_name": "Python 3",
   "language": "python",
   "name": "python3"
  },
  "language_info": {
   "codemirror_mode": {
    "name": "ipython",
    "version": 3
   },
   "file_extension": ".py",
   "mimetype": "text/x-python",
   "name": "python",
   "nbconvert_exporter": "python",
   "pygments_lexer": "ipython3",
   "version": "3.7.4"
  }
 },
 "nbformat": 4,
 "nbformat_minor": 2
}
