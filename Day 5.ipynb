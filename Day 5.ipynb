{
 "cells": [
  {
   "cell_type": "markdown",
   "metadata": {},
   "source": [
    "## Python Day Five Challenge Elementary"
   ]
  },
  {
   "cell_type": "markdown",
   "metadata": {},
   "source": [
    "A triangle can be classified based on the length of its sides as equilateral, isosceles or scalene. All 3 sides of an equilateral triangle have the same length. An isosceles triangle has 2 sides that are the same length and a third side that is a different length. If all the sides are of different lengths then the triangle is scalene. \n",
    "\n",
    "*Write a program that reads the lengths of the 3 sides of a traingle from the user and display a message indicating the type of the triangle*"
   ]
  },
  {
   "cell_type": "code",
   "execution_count": 66,
   "metadata": {},
   "outputs": [
    {
     "name": "stdout",
     "output_type": "stream",
     "text": [
      "Please enter the length of a side of the triange: 3\n",
      "Please enter the length of the second side of the triangle: 4\n",
      "Please enter the length of the third side of the triangle: 5\n",
      "No side is equal, your triangle is SCALENE\n"
     ]
    }
   ],
   "source": [
    "side_a=eval(input(\"Please enter the length of a side of the triange: \"))\n",
    "side_b=eval(input(\"Please enter the length of the second side of the triangle: \"))\n",
    "side_c=eval(input(\"Please enter the length of the third side of the triangle: \"))\n",
    "\n",
    "if side_a==side_b==side_c:\n",
    "    print (\"All sides are equal, your triangle is EQUILATERAL\")\n",
    "    \n",
    "elif side_a==side_b !=side_c:\n",
    "    print (\"Two sides are equal, your triangle is ISOSCELES\")\n",
    "    \n",
    "elif side_a==side_c !=side_b:\n",
    "    print (\"Two sides are equal, your triangle is ISOSCELES\")\n",
    "    \n",
    "elif side_b==side_c !=side_a:\n",
    "    print (\"Two sides are equal, your triangle is ISOSCELES\")\n",
    "    \n",
    "else:\n",
    "    print (\"No side is equal, your triangle is SCALENE\")"
   ]
  },
  {
   "cell_type": "code",
   "execution_count": null,
   "metadata": {},
   "outputs": [],
   "source": []
  }
 ],
 "metadata": {
  "kernelspec": {
   "display_name": "Python 3",
   "language": "python",
   "name": "python3"
  },
  "language_info": {
   "codemirror_mode": {
    "name": "ipython",
    "version": 3
   },
   "file_extension": ".py",
   "mimetype": "text/x-python",
   "name": "python",
   "nbconvert_exporter": "python",
   "pygments_lexer": "ipython3",
   "version": "3.7.4"
  }
 },
 "nbformat": 4,
 "nbformat_minor": 2
}
